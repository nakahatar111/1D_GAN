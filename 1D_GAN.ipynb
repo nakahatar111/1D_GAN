{
 "cells": [
  {
   "cell_type": "code",
   "execution_count": 43,
   "metadata": {},
   "outputs": [],
   "source": [
    "#imports for Keras\n",
    "from keras.models import Sequential\n",
    "from keras.layers import Dense\n",
    "from keras.utils.vis_utils import plot_model\n",
    "\n",
    "from numpy.random import rand, randn\n",
    "from numpy import hstack, zeros, ones\n",
    "from matplotlib import pyplot"
   ]
  },
  {
   "cell_type": "code",
   "execution_count": 44,
   "metadata": {},
   "outputs": [],
   "source": [
    "def generate_real_samples(n):\n",
    "  X1 = rand(n) - 0.5\n",
    "  X2 = X1 * X1\n",
    "  #reshape\n",
    "  X1 = X1.reshape(n,1)\n",
    "  X2 = X2.reshape(n,1)\n",
    "  X = hstack((X1, X2))\n",
    "  #generate class labels\n",
    "  y = ones((n,1))\n",
    "  return X, y"
   ]
  },
  {
   "cell_type": "code",
   "execution_count": 45,
   "metadata": {},
   "outputs": [],
   "source": [
    "#define discriminator model\n",
    "def define_discriminator(n_inputs = 2):\n",
    "  model = Sequential()\n",
    "  model.add(Dense(25, activation='relu', kernel_initializer='he_uniform', input_dim = n_inputs))\n",
    "  model.add(Dense(1, activation='sigmoid'))\n",
    "  #compile model\n",
    "  model.compile(loss = 'binary_crossentropy', optimizer = 'adam', metrics = ['accuracy'])\n",
    "  return model"
   ]
  },
  {
   "cell_type": "code",
   "execution_count": 46,
   "metadata": {},
   "outputs": [],
   "source": [
    "def define_generator(latent_dim, n_outputs = 2):\n",
    "  model = Sequential()\n",
    "  model.add(Dense(15, activation='relu', kernel_initializer='he_uniform', input_dim = latent_dim))\n",
    "  model.add(Dense(n_outputs, activation='linear'))\n",
    "  return model"
   ]
  },
  {
   "cell_type": "code",
   "execution_count": 47,
   "metadata": {},
   "outputs": [],
   "source": [
    "def define_gan(generator, discriminator):\n",
    "  discriminator.trainable = False\n",
    "  model = Sequential()\n",
    "  model.add(generator)\n",
    "  model.add(discriminator)\n",
    "  model.compile(loss='binary_crossentropy', optimizer='adam')\n",
    "  return model"
   ]
  },
  {
   "cell_type": "code",
   "execution_count": 48,
   "metadata": {},
   "outputs": [],
   "source": [
    "def generate_latent_points(latent_dim, n):\n",
    "  x_input = randn(n * latent_dim)\n",
    "  x_input = x_input.reshape(n, latent_dim)\n",
    "  return x_input"
   ]
  },
  {
   "cell_type": "code",
   "execution_count": 49,
   "metadata": {},
   "outputs": [],
   "source": [
    "def generate_fake_samples(generator, latent_dim, n):\n",
    "  x_input = generate_latent_points(latent_dim, n)\n",
    "  #predict output\n",
    "  X = generator.predict(x_input)\n",
    "  #plot result\n",
    "  y = zeros((n,1))\n",
    "  return X, y\n"
   ]
  },
  {
   "cell_type": "code",
   "execution_count": 50,
   "metadata": {},
   "outputs": [],
   "source": [
    "def train(g_model, d_model, gan_model, latent_dim, n_epochs = 10000, n_batch = 128, n_eval = 2000):\n",
    "  half_batch = int(n_batch/2)\n",
    "  for i in range(n_epochs):\n",
    "    # generate real/fake points\n",
    "    x_real, y_real = generate_real_samples(half_batch)\n",
    "    x_fake, y_fake = generate_fake_samples(g_model, latent_dim, half_batch)\n",
    "    # train discriminator\n",
    "    d_model.train_on_batch(x_real, y_real)\n",
    "    d_model.train_on_batch(x_fake, y_fake)\n",
    "    # generate latent points\n",
    "    x_gan = generate_latent_points(latent_dim, n_batch)\n",
    "    y_gan = ones((n_batch,1))\n",
    "    # train gan/generator\n",
    "    gan_model.train_on_batch(x_gan, y_gan)\n",
    "    # evaluate\n",
    "    if(i + 1) % n_eval == 0:\n",
    "      summarize_performance(i, g_model, d_model, latent_dim)\n",
    "\n"
   ]
  },
  {
   "cell_type": "code",
   "execution_count": 51,
   "metadata": {},
   "outputs": [],
   "source": [
    "def summarize_performance(epoch, generator, discriminator, latent_dim, n = 100):\n",
    "  x_real, y_real = generate_real_samples(n)\n",
    "  _, acc_real = discriminator.evaluate(x_real, y_real, verbose=0)\n",
    "\n",
    "  x_fake, y_fake = generate_fake_samples(generator, latent_dim, n)\n",
    "  _, acc_fake = discriminator.evaluate(x_fake, y_fake, verbose=0)\n",
    "  \n",
    "  print(epoch, acc_real, acc_fake)\n",
    "\n",
    "  pyplot.scatter(x_real[:, 0], x_real[:, 1], color = 'red')\n",
    "  pyplot.scatter(x_fake[:, 0], x_fake[:, 1], color = 'blue')\n",
    "\n",
    "  filename = 'generated_plot_e%03d.png' % (epoch + 1)\n",
    "  pyplot.savefig(filename)\n",
    "  pyplot.close()"
   ]
  },
  {
   "cell_type": "code",
   "execution_count": 53,
   "metadata": {},
   "outputs": [
    {
     "name": "stdout",
     "output_type": "stream",
     "text": [
      "1999 0.5099999904632568 0.6499999761581421\n",
      "3999 0.6800000071525574 0.5699999928474426\n",
      "5999 0.550000011920929 0.550000011920929\n",
      "7999 0.5400000214576721 0.6399999856948853\n",
      "9999 0.6700000166893005 0.5099999904632568\n"
     ]
    }
   ],
   "source": [
    "#define latent space, gan, and plot results\n",
    "latent_dim = 5\n",
    "discriminator = define_discriminator()\n",
    "generator = define_generator(latent_dim)\n",
    "gan_model = define_gan(generator, discriminator)\n",
    "\n",
    "#train model\n",
    "train(generator, discriminator, gan_model, latent_dim)"
   ]
  },
  {
   "cell_type": "code",
   "execution_count": 54,
   "metadata": {},
   "outputs": [
    {
     "name": "stdout",
     "output_type": "stream",
     "text": [
      "WARNING:tensorflow:Compiled the loaded model, but the compiled metrics have yet to be built. `model.compile_metrics` will be empty until you train or evaluate the model.\n"
     ]
    }
   ],
   "source": [
    "discriminator.save('discriminator.h5')\n",
    "generator.save('generator.h5')\n",
    "gan_model.save('1D_gan.h5')"
   ]
  },
  {
   "cell_type": "code",
   "execution_count": 67,
   "metadata": {},
   "outputs": [
    {
     "name": "stdout",
     "output_type": "stream",
     "text": [
      "[[-0.29692265  0.09821919]\n",
      " [ 0.27843598  0.08123943]\n",
      " [-0.24144065  0.06306869]\n",
      " [ 0.00087422  0.00925259]\n",
      " [-0.0021473   0.00428645]\n",
      " [-0.22855781  0.05171187]\n",
      " [ 0.36621433  0.14318857]\n",
      " [ 0.18474434  0.05218518]\n",
      " [ 0.29127324  0.08804817]\n",
      " [-0.2563214   0.07167468]]\n"
     ]
    }
   ],
   "source": [
    "x_fake, _ = generate_fake_samples(generator, 5, 10)\n",
    "print(x_fake)"
   ]
  }
 ],
 "metadata": {
  "kernelspec": {
   "display_name": "Python 3.8.8 ('base')",
   "language": "python",
   "name": "python3"
  },
  "language_info": {
   "codemirror_mode": {
    "name": "ipython",
    "version": 3
   },
   "file_extension": ".py",
   "mimetype": "text/x-python",
   "name": "python",
   "nbconvert_exporter": "python",
   "pygments_lexer": "ipython3",
   "version": "3.8.8"
  },
  "orig_nbformat": 4,
  "vscode": {
   "interpreter": {
    "hash": "f08154012ddadd8e950e6e9e035c7a7b32c136e7647e9b7c77e02eb723a8bedb"
   }
  }
 },
 "nbformat": 4,
 "nbformat_minor": 2
}
